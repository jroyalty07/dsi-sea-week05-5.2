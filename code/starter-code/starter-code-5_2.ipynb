{
 "cells": [
  {
   "cell_type": "markdown",
   "metadata": {},
   "source": [
    "# Support Vector Machines Lab"
   ]
  },
  {
   "cell_type": "markdown",
   "metadata": {},
   "source": [
    "In this lab we will explore several datasets with SVMs. The assets folder contains several datasets (in order of complexity):\n",
    "\n",
    "1. Breast cancer\n",
    "- Spambase\n",
    "- Car evaluation\n",
    "- Mushroom\n",
    "\n",
    "For each of these a `.names` file is provided with details on the origin of data."
   ]
  },
  {
   "cell_type": "code",
   "execution_count": null,
   "metadata": {
    "collapsed": false
   },
   "outputs": [],
   "source": []
  },
  {
   "cell_type": "markdown",
   "metadata": {},
   "source": [
    "# Exercise 1: Breast Cancer\n",
    "\n",
    "\n",
    "\n",
    "## 1.a: Load the Data\n",
    "Use `pandas.read_csv` to load the data and assess the following:\n",
    "- Are there any missing values? (how are they encoded? do we impute them?)\n",
    "- Are the features categorical or numerical?\n",
    "- Are the values normalized?\n",
    "- How many classes are there in the target?\n",
    "\n",
    "Perform what's necessary to get to a point where you have a feature matrix `X` and a target vector `y`, both with only numerical entries."
   ]
  },
  {
   "cell_type": "code",
   "execution_count": 44,
   "metadata": {
    "collapsed": false
   },
   "outputs": [
    {
     "data": {
      "text/plain": [
       "2    444\n",
       "4    239\n",
       "Name: Class, dtype: int64"
      ]
     },
     "execution_count": 44,
     "metadata": {},
     "output_type": "execute_result"
    }
   ],
   "source": [
    "import pandas as pd\n",
    "from sklearn.svm import SVC\n",
    "cancer = pd.read_csv('../../assets/datasets/breast_cancer.csv')\n",
    "\n",
    "# Drop ? mark rows\n",
    "cancer = cancer[cancer['Bare_Nuclei'] != '?'].astype(int)\n",
    "X = cancer.drop(['Sample_code_number','Class'],axis = 1)\n",
    "y = [(x == 2).astype(int) for x in cancer['Class']]\n",
    "# car = pd.read_csv('../../assets/datasets/car.csv')\n",
    "# mushroom = pd.read_csv('../../assets/datasets/mushroom.csv')\n",
    "# spambase = pd.read_csv('../../assets/datasets/spambase.csv')\n"
   ]
  },
  {
   "cell_type": "markdown",
   "metadata": {},
   "source": [
    "## 1.b: Model Building\n",
    "\n",
    "- What's the baseline for the accuracy?\n",
    "- Initialize and train a linear svm. What's the average accuracy score with a 3-fold cross validation?\n",
    "- Repeat using an rbf classifier. Compare the scores. Which one is better?\n",
    "- Are your features normalized? if not, try normalizing and repeat the test. Does the score improve?\n",
    "- What's the best model?\n",
    "- Print a confusion matrix and classification report for your best model using:\n",
    "        train_test_split(X, y, stratify=y, test_size=0.33, random_state=42)\n",
    "\n",
    "**Check** to decide which model is best, look at the average cross validation score. Are the scores significantly different from one another?"
   ]
  },
  {
   "cell_type": "code",
   "execution_count": 3,
   "metadata": {
    "collapsed": false
   },
   "outputs": [
    {
     "name": "stdout",
     "output_type": "stream",
     "text": [
      "Baseline is 0.650073206442\n"
     ]
    }
   ],
   "source": [
    "from sklearn.model_selection import train_test_split, cross_val_score, GridSearchCV\n",
    "from sklearn.preprocessing import StandardScaler\n",
    "import numpy as np\n",
    "print \"Baseline is %s\" % (sum(y) / float(len(y)))"
   ]
  },
  {
   "cell_type": "code",
   "execution_count": 4,
   "metadata": {
    "collapsed": false
   },
   "outputs": [
    {
     "name": "stdout",
     "output_type": "stream",
     "text": [
      "0.96489295927\n"
     ]
    }
   ],
   "source": [
    "model = SVC(kernel='linear')\n",
    "print np.mean(cross_val_score(model, X, y, cv=3))"
   ]
  },
  {
   "cell_type": "code",
   "execution_count": 5,
   "metadata": {
    "collapsed": false
   },
   "outputs": [
    {
     "name": "stdout",
     "output_type": "stream",
     "text": [
      "0.95758301775\n"
     ]
    }
   ],
   "source": [
    "model = SVC(kernel='rbf')\n",
    "print np.mean(cross_val_score(model, X, y, cv=3))"
   ]
  },
  {
   "cell_type": "code",
   "execution_count": 6,
   "metadata": {
    "collapsed": false
   },
   "outputs": [
    {
     "name": "stdout",
     "output_type": "stream",
     "text": [
      "0.966354947575\n",
      "0.96928536466\n",
      "SVC with RBF is best after normalizing\n"
     ]
    }
   ],
   "source": [
    "scaler = StandardScaler()\n",
    "X = scaler.fit_transform(X)\n",
    "\n",
    "model = SVC(kernel='linear')\n",
    "print np.mean(cross_val_score(model, X, y, cv=3))\n",
    "\n",
    "model = SVC(kernel='rbf')\n",
    "print np.mean(cross_val_score(model, X, y, cv=3))\n",
    "print \"SVC with RBF is best after normalizing\""
   ]
  },
  {
   "cell_type": "code",
   "execution_count": 7,
   "metadata": {
    "collapsed": false
   },
   "outputs": [
    {
     "name": "stdout",
     "output_type": "stream",
     "text": [
      "<------------------------------------------->\n",
      "CONFUSION MATRIX\n",
      "           pred_cancer  pred_no_cancer\n",
      "cancer              78               1\n",
      "no_cancer            6             141\n",
      "<------------------------------------------->\n",
      "             precision    recall  f1-score   support\n",
      "\n",
      "     cancer       0.93      0.99      0.96        79\n",
      "  no_cancer       0.99      0.96      0.98       147\n",
      "\n",
      "avg / total       0.97      0.97      0.97       226\n",
      "\n",
      "More false positives, it is better to predict having cancer and not have it happen than the other way around.\n"
     ]
    }
   ],
   "source": [
    "from sklearn.metrics import confusion_matrix, classification_report, accuracy_score\n",
    "X_train, X_test, y_train, y_test = train_test_split(X, y, stratify=y, test_size=0.33, random_state=42)\n",
    "model.fit(X_train,y_train)\n",
    "y_pred = model.predict(X_test)\n",
    "\n",
    "print \"<------------------------------------------->\"\n",
    "cnf = confusion_matrix(y_test, y_pred)\n",
    "print \"CONFUSION MATRIX\"\n",
    "print pd.DataFrame(cnf, columns = ['pred_cancer', 'pred_no_cancer'], \n",
    "                   index = ['cancer', 'no_cancer'])\n",
    "print \"<------------------------------------------->\"\n",
    "print classification_report(y_test, y_pred, target_names = ['cancer', 'no_cancer'])\n",
    "\n",
    "print \"More false positives, it is better to predict having cancer and not have it happen than the other way around.\""
   ]
  },
  {
   "cell_type": "markdown",
   "metadata": {},
   "source": [
    "**Check:** Are there more false positives or false negatives? Is this good or bad?"
   ]
  },
  {
   "cell_type": "markdown",
   "metadata": {},
   "source": [
    "## 1.c: Feature Selection\n",
    "\n",
    "Use any of the strategies offered by `sklearn` to select the most important features.\n",
    "\n",
    "Repeat the cross validation with only those 5 features. Does the score change?"
   ]
  },
  {
   "cell_type": "code",
   "execution_count": 8,
   "metadata": {
    "collapsed": false
   },
   "outputs": [
    {
     "name": "stdout",
     "output_type": "stream",
     "text": [
      "0.966354947575\n",
      "Model gets worse with feature elimination\n"
     ]
    }
   ],
   "source": [
    "from sklearn.feature_selection import SelectKBest\n",
    "\n",
    "from sklearn.feature_selection import SelectKBest, f_classif\n",
    "selector = SelectKBest(f_classif, k=5)\n",
    "selected_data = selector.fit_transform(X, y)\n",
    "model = SVC(kernel='rbf')\n",
    "\n",
    "print np.mean(cross_val_score(model, selected_data, y, cv=3))\n",
    "print \"Model gets worse with feature elimination\""
   ]
  },
  {
   "cell_type": "markdown",
   "metadata": {},
   "source": [
    "## 1.d: Learning Curves\n",
    "\n",
    "Learning curves are useful to study the behavior of training and test errors as a function of the number of datapoints available.\n",
    "\n",
    "- Plot learning curves for train sizes between 10% and 100% (use StratifiedKFold with 5 folds as cross validation)\n",
    "- What can you say about the dataset? do you need more data or do you need a better model?"
   ]
  },
  {
   "cell_type": "code",
   "execution_count": 9,
   "metadata": {
    "collapsed": false
   },
   "outputs": [
    {
     "data": {
      "image/png": "[encoded data removed]",
      "text/plain": [
       "<matplotlib.figure.Figure at 0x114233850>"
      ]
     },
     "metadata": {},
     "output_type": "display_data"
    }
   ],
   "source": [
    "import numpy as np\n",
    "import matplotlib.pyplot as plt\n",
    "from sklearn.naive_bayes import GaussianNB\n",
    "from sklearn.svm import SVC\n",
    "from sklearn.datasets import load_digits\n",
    "from sklearn.model_selection import learning_curve\n",
    "from sklearn.model_selection import ShuffleSplit\n",
    "\n",
    "def plot_learning_curve(estimator, title, X, y, ylim=None, cv=None,\n",
    "                        n_jobs=1, train_sizes=np.linspace(.1, 1.0, 5)):\n",
    "    plt.figure()\n",
    "    plt.title(title)\n",
    "    if ylim is not None:\n",
    "        plt.ylim(*ylim)\n",
    "    plt.xlabel(\"Training examples\")\n",
    "    plt.ylabel(\"Score\")\n",
    "    train_sizes, train_scores, test_scores = learning_curve(\n",
    "        estimator, X, y, cv=cv, n_jobs=n_jobs, train_sizes=train_sizes)\n",
    "    train_scores_mean = np.mean(train_scores, axis=1)\n",
    "    train_scores_std = np.std(train_scores, axis=1)\n",
    "    test_scores_mean = np.mean(test_scores, axis=1)\n",
    "    test_scores_std = np.std(test_scores, axis=1)\n",
    "    plt.grid()\n",
    "\n",
    "    plt.fill_between(train_sizes, train_scores_mean - train_scores_std,\n",
    "                     train_scores_mean + train_scores_std, alpha=0.1,\n",
    "                     color=\"r\")\n",
    "    plt.fill_between(train_sizes, test_scores_mean - test_scores_std,\n",
    "                     test_scores_mean + test_scores_std, alpha=0.1, color=\"g\")\n",
    "    plt.plot(train_sizes, train_scores_mean, 'o-', color=\"r\",\n",
    "             label=\"Training score\")\n",
    "    plt.plot(train_sizes, test_scores_mean, 'o-', color=\"g\",\n",
    "             label=\"Cross-validation score\")\n",
    "\n",
    "    plt.legend(loc=\"best\")\n",
    "    return plt\n",
    "\n",
    "title = \"Learning Curves (SVM, linear kernel)\"\n",
    "plot_learning_curve(SVC(kernel='linear'), title, X, y, train_sizes=[.1, .3, .5, .7, 1], cv=5)\n",
    "\n",
    "plt.show()"
   ]
  },
  {
   "cell_type": "markdown",
   "metadata": {},
   "source": [
    "##  1.e: Grid Ssearch\n",
    "\n",
    "Use the grid_search function to explore different kernels and values for the C parameter.\n",
    "\n",
    "- Can you improve on your best previous score?\n",
    "- Print the best parameters and the best score"
   ]
  },
  {
   "cell_type": "code",
   "execution_count": 15,
   "metadata": {
    "collapsed": false
   },
   "outputs": [
    {
     "data": {
      "text/plain": [
       "GridSearchCV(cv=None, error_score='raise',\n",
       "       estimator=SVC(C=1.0, cache_size=200, class_weight=None, coef0=0.0,\n",
       "  decision_function_shape=None, degree=3, gamma='auto', kernel='rbf',\n",
       "  max_iter=-1, probability=False, random_state=None, shrinking=True,\n",
       "  tol=0.001, verbose=False),\n",
       "       fit_params={}, iid=True, n_jobs=1,\n",
       "       param_grid={'kernel': ['rbf', 'linear'], 'C': [0.0001, 0.001, 0.01, 0.1, 1, 3, 10, 100]},\n",
       "       pre_dispatch='2*n_jobs', refit=True, return_train_score=True,\n",
       "       scoring=None, verbose=0)"
      ]
     },
     "execution_count": 15,
     "metadata": {},
     "output_type": "execute_result"
    }
   ],
   "source": [
    "from sklearn.model_selection import GridSearchCV\n",
    "X = cancer.drop(['Sample_code_number','Class'],axis = 1)\n",
    "y = [(x == 2).astype(int) for x in cancer['Class']]\n",
    "\n",
    "\n",
    "param_grid = {'C': [.0001,.001,.01,.1,1,3,10,100],\n",
    "              'kernel': ['rbf','linear'],}\n",
    "svc = GridSearchCV(SVC(), param_grid)\n",
    "svc.fit(X, y)"
   ]
  },
  {
   "cell_type": "code",
   "execution_count": 16,
   "metadata": {
    "collapsed": false
   },
   "outputs": [
    {
     "name": "stdout",
     "output_type": "stream",
     "text": [
      "{'kernel': 'linear', 'C': 0.001}\n",
      "0.966325036603\n"
     ]
    }
   ],
   "source": [
    "print svc.best_params_\n",
    "print svc.best_score_\n"
   ]
  },
  {
   "cell_type": "markdown",
   "metadata": {},
   "source": [
    "# Exercise 2\n",
    "Now that you've completed steps 1.a through 1.e it's time to tackle some harder datasets. But before we do that, let's encapsulate a few things into functions so that it's easier to repeat the analysis.\n",
    "\n",
    "## 2.a: Cross Validation\n",
    "Implement a function `do_cv(model, X, y, cv)` that does the following:\n",
    "- Calculates the cross validation scores\n",
    "- Prints the model\n",
    "- Prints and returns the mean and the standard deviation of the cross validation scores\n",
    "\n",
    "> Answer: see above\n",
    "\n",
    "## 2.b: Confusion Matrix and Classification report\n",
    "Implement a function `do_cm_cr(model, X, y, names)` that automates the following:\n",
    "- Split the data using `train_test_split(X, y, stratify=y, test_size=0.33, random_state=42)`\n",
    "- Fit the model\n",
    "- Prints confusion matrix and classification report in a nice format\n",
    "\n",
    "**Hint:** names is the list of target classes\n",
    "\n",
    "> Answer: see above\n",
    "\n",
    "## 2.c: Learning Curves\n",
    "Implement a function `do_learning_curve(model, X, y, sizes)` that automates drawing the learning curves:\n",
    "- Allow for sizes input\n",
    "- Use 5-fold StratifiedKFold cross validation\n",
    "\n",
    "> Answer: see above\n",
    "\n",
    "## 2.d: Grid Search\n",
    "Implement a function `do_grid_search(model, parameters)` that automates the grid search by doing:\n",
    "- Calculate grid search\n",
    "- Print best parameters\n",
    "- Print best score\n",
    "- Return best estimator\n",
    "\n",
    "\n",
    "> Answer: see above"
   ]
  },
  {
   "cell_type": "code",
   "execution_count": 81,
   "metadata": {
    "collapsed": true
   },
   "outputs": [],
   "source": [
    "from sklearn.metrics import confusion_matrix, classification_report, accuracy_score\n",
    "\n",
    "def do_cv(model, X, y, cv):\n",
    "    mean = np.mean(cross_val_score(model, X, y, cv=cv))\n",
    "    std = np.std(cross_val_score(model, X, y, cv=cv))\n",
    "    print model\n",
    "    print \"Mean: %s\" % mean\n",
    "    print \"Std: %s\" % std\n",
    "    return mean, std\n",
    "\n",
    "def do_cm_cr(model, X, y, names):\n",
    "    X_train, X_test, y_train, y_test = train_test_split(X, y, stratify=y, test_size=0.33, random_state=42)\n",
    "    model.fit(X_train,y_train)\n",
    "    y_pred = model.predict(X_test)\n",
    "\n",
    "    print \"<------------------------------------------->\"\n",
    "    cnf = confusion_matrix(y_test, y_pred)\n",
    "    print \"CONFUSION MATRIX\"\n",
    "    print pd.DataFrame(cnf, index = names)\n",
    "    print \"<------------------------------------------->\"\n",
    "    print classification_report(y_test, y_pred, target_names = names)\n",
    "\n",
    "# SEE PLOT LEARNING CURVE FROM ABOVE \n",
    "\n",
    "\n",
    "def do_grid_search(model, parameters):\n",
    "    svc = GridSearchCV(model, parameters)\n",
    "    svc.fit(X, y)\n",
    "    print svc.best_params_\n",
    "    print svc.best_score_\n",
    "    return svc.best_estimator_\n",
    "\n",
    "    "
   ]
  },
  {
   "cell_type": "markdown",
   "metadata": {},
   "source": [
    "# Exercise 3\n",
    "Using the functions above, analyze the Spambase dataset.\n",
    "\n",
    "Notice that now you have many more features. Focus your attention on step C => feature selection\n",
    "\n",
    "- Load the data and get to X, y\n",
    "- Select the 15 best features\n",
    "- Perform grid search to determine best model\n",
    "- Display learning curves"
   ]
  },
  {
   "cell_type": "code",
   "execution_count": 46,
   "metadata": {
    "collapsed": false
   },
   "outputs": [],
   "source": [
    "spambase = pd.read_csv('../../assets/datasets/spambase.csv')\n",
    "\n",
    "X = spambase.drop(['class'],axis = 1)\n",
    "y = spambase['class']\n",
    "\n",
    "selector = SelectKBest(f_classif, k=15)\n",
    "selected_data = selector.fit_transform(X, y)"
   ]
  },
  {
   "cell_type": "code",
   "execution_count": 39,
   "metadata": {
    "collapsed": false
   },
   "outputs": [
    {
     "name": "stdout",
     "output_type": "stream",
     "text": [
      "{'C': 3}\n",
      "0.823951314932\n"
     ]
    }
   ],
   "source": [
    "X = selected_data\n",
    "param_grid = {'C': [.001,.01,.1,1,3,10]}\n",
    "best_estimator = do_grid_search(SVC(), param_grid)\n"
   ]
  },
  {
   "cell_type": "code",
   "execution_count": 49,
   "metadata": {
    "collapsed": false
   },
   "outputs": [
    {
     "name": "stdout",
     "output_type": "stream",
     "text": [
      "Not sure what is broken with my learning curve plot\n"
     ]
    }
   ],
   "source": [
    "# title = \"Learning Curves (SVM, linear kernel)\"\n",
    "# plot_learning_curve(best_estimator, title, X, y, train_sizes=[.1, .3, .5, .7, 1], cv=5)\n",
    "\n",
    "# plt.show()\n",
    "print \"Not sure what is broken with my learning curve plot\""
   ]
  },
  {
   "cell_type": "markdown",
   "metadata": {},
   "source": [
    "# Exercise 4\n",
    "Repeat steps 1.a - 1.e for the car dataset. Notice that now features are categorical, not numerical.\n",
    "- Find a suitable way to encode them\n",
    "- How does this change our modeling strategy?\n",
    "\n",
    "Also notice that the target variable `acceptability` has 4 classes. How do we encode them?\n"
   ]
  },
  {
   "cell_type": "code",
   "execution_count": 76,
   "metadata": {
    "collapsed": false
   },
   "outputs": [],
   "source": [
    "from sklearn.preprocessing import LabelEncoder\n",
    "\n",
    "car = pd.read_csv('../../assets/datasets/car.csv')\n",
    "data = car.drop('acceptability', axis = 1)\n",
    "\n",
    "mappy = {\n",
    "    'low' : 1, 'small': 1, 'unacc': 1,\n",
    "    'med' : 2, 'acc': 2, '2': 2,\n",
    "    'high': 3, 'big' : 3, 'good': 3, '3': 3,\n",
    "    'vhigh': 4,'vgood': 4, '4': 4,\n",
    "    '5more': 5,\n",
    "    'more': 6,\n",
    "}\n",
    "\n",
    "df = data.applymap(lambda x : mappy[x])\n",
    "\n",
    "le = LabelEncoder()\n",
    "y = le.fit_transform(car['acceptability'])\n",
    "cv = 5"
   ]
  },
  {
   "cell_type": "code",
   "execution_count": 77,
   "metadata": {
    "collapsed": false
   },
   "outputs": [
    {
     "name": "stdout",
     "output_type": "stream",
     "text": [
      "-------\n",
      "SVC(C=1.0, cache_size=200, class_weight=None, coef0=0.0,\n",
      "  decision_function_shape=None, degree=3, gamma='auto', kernel='linear',\n",
      "  max_iter=-1, probability=False, random_state=None, shrinking=True,\n",
      "  tol=0.001, verbose=False)\n",
      "Mean: 0.775295738675\n",
      "Std: 0.102383856167\n",
      "-------\n",
      "SVC(C=1.0, cache_size=200, class_weight=None, coef0=0.0,\n",
      "  decision_function_shape=None, degree=3, gamma='auto', kernel='rbf',\n",
      "  max_iter=-1, probability=False, random_state=None, shrinking=True,\n",
      "  tol=0.001, verbose=False)\n",
      "Mean: 0.888325043689\n",
      "Std: 0.0291151844955\n"
     ]
    },
    {
     "data": {
      "text/plain": [
       "(0.88832504368866783, 0.029115184495503009)"
      ]
     },
     "execution_count": 77,
     "metadata": {},
     "output_type": "execute_result"
    }
   ],
   "source": [
    "print \"-------\"\n",
    "do_cv(SVC(kernel = 'linear'), df, y, cv)\n",
    "print \"-------\"\n",
    "do_cv(SVC(kernel = 'rbf'), df, y, cv)\n"
   ]
  },
  {
   "cell_type": "code",
   "execution_count": 82,
   "metadata": {
    "collapsed": false
   },
   "outputs": [
    {
     "name": "stdout",
     "output_type": "stream",
     "text": [
      "<------------------------------------------->\n",
      "CONFUSION MATRIX\n",
      "         0   1    2   3\n",
      "unacc  121   0    6   0\n",
      "acc      5  18    0   0\n",
      "vgood   12   0  388   0\n",
      "good     3   0    0  18\n",
      "<------------------------------------------->\n",
      "             precision    recall  f1-score   support\n",
      "\n",
      "      unacc       0.86      0.95      0.90       127\n",
      "        acc       1.00      0.78      0.88        23\n",
      "      vgood       0.98      0.97      0.98       400\n",
      "       good       1.00      0.86      0.92        21\n",
      "\n",
      "avg / total       0.96      0.95      0.95       571\n",
      "\n"
     ]
    }
   ],
   "source": [
    "labels = ['unacc', 'acc', 'vgood', 'good']\n",
    "do_cm_cr(SVC(kernel = 'rbf'), df, y, labels)    "
   ]
  },
  {
   "cell_type": "code",
   "execution_count": 85,
   "metadata": {
    "collapsed": false
   },
   "outputs": [
    {
     "name": "stdout",
     "output_type": "stream",
     "text": [
      "{'kernel': 'rbf', 'C': 10}\n",
      "0.829861111111\n"
     ]
    }
   ],
   "source": [
    "X = df\n",
    "param_grid = {'C': [.0001,.001,.01,.1,1,3,10,50, 100],\n",
    "              'kernel': ['rbf','linear'],}\n",
    "\n",
    "best_estimator = do_grid_search(SVC(kernel = 'rbf'), param_grid)\n"
   ]
  },
  {
   "cell_type": "markdown",
   "metadata": {},
   "source": [
    "# Bonus\n",
    "Repeat steps 1.a - 1.e for the mushroom dataset. Notice that now features are categorical, not numerical. This dataset is quite large.\n",
    "- How does this change our modeling strategy?\n",
    "- Can we use feature selection to improve this?\n"
   ]
  },
  {
   "cell_type": "code",
   "execution_count": null,
   "metadata": {
    "collapsed": true
   },
   "outputs": [],
   "source": []
  }
 ],
 "metadata": {
  "anaconda-cloud": {},
  "kernelspec": {
   "display_name": "Python [default]",
   "language": "python",
   "name": "python2"
  },
  "language_info": {
   "codemirror_mode": {
    "name": "ipython",
    "version": 2
   },
   "file_extension": ".py",
   "mimetype": "text/x-python",
   "name": "python",
   "nbconvert_exporter": "python",
   "pygments_lexer": "ipython2",
   "version": "2.7.12"
  }
 },
 "nbformat": 4,
 "nbformat_minor": 0
}
